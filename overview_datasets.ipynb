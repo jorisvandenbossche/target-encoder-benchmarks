{
 "cells": [
  {
   "cell_type": "markdown",
   "metadata": {},
   "source": [
    "# Overview of the datasets used in the benchmarks"
   ]
  },
  {
   "cell_type": "code",
   "execution_count": 1,
   "metadata": {},
   "outputs": [],
   "source": [
    "%matplotlib inline"
   ]
  },
  {
   "cell_type": "code",
   "execution_count": 2,
   "metadata": {},
   "outputs": [],
   "source": [
    "import os\n",
    "import glob\n",
    "\n",
    "import numpy as np\n",
    "import pandas as pd\n",
    "import matplotlib.pyplot as plt"
   ]
  },
  {
   "cell_type": "code",
   "execution_count": 3,
   "metadata": {},
   "outputs": [],
   "source": [
    "import datasets"
   ]
  },
  {
   "cell_type": "code",
   "execution_count": 4,
   "metadata": {},
   "outputs": [],
   "source": [
    "def overview_category(cat_column):\n",
    "    n = len(cat_column)\n",
    "    n_cat = len(cat_column.unique())\n",
    "    counts = cat_column.value_counts()\n",
    "    n_most_occuring = counts.iloc[0]\n",
    "    n_median = counts.median()\n",
    "    n_under_mean5 = np.sum(counts < (counts.mean() / 5))\n",
    "    print(\n",
    "        \"Number of rows: {n}\\n\"\n",
    "        \"Number of categories: {n_cat}\\n\"\n",
    "        \"Most frequent category: {n_most_occuring} rows\\n\"\n",
    "        \"Median number of occurences: {n_median}\\n\"\n",
    "        \"Number of categories with occurences < (mean n° occurences) / 5: {n_under_mean5}\"\n",
    "        .format(n=n, n_cat=n_cat, n_most_occuring=n_most_occuring,\n",
    "                n_median=n_median, n_under_mean5=n_under_mean5))\n",
    "    \n",
    "    plt.plot(np.asarray(cat_column.value_counts()))"
   ]
  },
  {
   "cell_type": "markdown",
   "metadata": {},
   "source": [
    "## Employee Salaries"
   ]
  },
  {
   "cell_type": "code",
   "execution_count": 10,
   "metadata": {},
   "outputs": [],
   "source": [
    "data = datasets.Data('employee_salaries')"
   ]
  },
  {
   "cell_type": "code",
   "execution_count": 12,
   "metadata": {},
   "outputs": [
    {
     "data": {
      "text/plain": [
       "<datasets.Data at 0x7f8f0db6efd0>"
      ]
     },
     "execution_count": 12,
     "metadata": {},
     "output_type": "execute_result"
    }
   ],
   "source": [
    "data.get_df()"
   ]
  },
  {
   "cell_type": "code",
   "execution_count": 13,
   "metadata": {
    "scrolled": true
   },
   "outputs": [
    {
     "data": {
      "text/plain": [
       "{'2016 Gross Pay Received': 'Delete',\n",
       " '2016 Overtime Pay': 'Delete',\n",
       " 'Assignment Category': 'OneHotEncoderDense-1',\n",
       " 'Current Annual Salary': 'y',\n",
       " 'Department': 'Delete',\n",
       " 'Department Name': 'OneHotEncoderDense',\n",
       " 'Division': 'OneHotEncoderDense',\n",
       " 'Employee Position Title': 'Special',\n",
       " 'Full Name': 'Delete',\n",
       " 'Gender': 'OneHotEncoderDense',\n",
       " 'Underfilled Job Title': 'Delete',\n",
       " 'Year First Hired': 'Numerical'}"
      ]
     },
     "execution_count": 13,
     "metadata": {},
     "output_type": "execute_result"
    }
   ],
   "source": [
    "data.col_action"
   ]
  },
  {
   "cell_type": "code",
   "execution_count": 14,
   "metadata": {},
   "outputs": [
    {
     "name": "stdout",
     "output_type": "stream",
     "text": [
      "Preprocessing column: Employee Position Title\n"
     ]
    }
   ],
   "source": [
    "data.preprocess()"
   ]
  },
  {
   "cell_type": "code",
   "execution_count": 16,
   "metadata": {},
   "outputs": [],
   "source": [
    "cat_column = data.df['Employee Position Title']"
   ]
  },
  {
   "cell_type": "code",
   "execution_count": 17,
   "metadata": {},
   "outputs": [
    {
     "name": "stdout",
     "output_type": "stream",
     "text": [
      "Number of rows: 9228\n",
      "Number of categories: 385\n",
      "Most occuring category: 883 rows\n",
      "Median number of occurences: 4.0\n",
      "Number of categories with occurences < (mean n° occurences) / 5: 196\n"
     ]
    },
    {
     "data": {
      "image/png": "[encoded data removed]",
      "text/plain": [
       "<Figure size 432x288 with 1 Axes>"
      ]
     },
     "metadata": {},
     "output_type": "display_data"
    }
   ],
   "source": [
    "overview_category(cat_column)"
   ]
  },
  {
   "cell_type": "code",
   "execution_count": 18,
   "metadata": {
    "scrolled": false
   },
   "outputs": [
    {
     "data": {
      "text/plain": [
       " police officer iii                                       883\n",
       " firefighter/rescuer iii                                  694\n",
       " bus operator                                             638\n",
       " manager iii                                              243\n",
       " correctional officer iii (corporal)                      228\n",
       " master firefighter/rescuer                               218\n",
       " office services coordinator                              207\n",
       " school health room technician i                          204\n",
       " community health nurse ii                                165\n",
       " crossing guard                                           161\n",
       " income assistance program specialist ii                  155\n",
       " program manager ii                                       145\n",
       " fire/rescue captain                                      141\n",
       " police sergeant                                          140\n",
       " liquor store clerk i                                     128\n",
       " manager ii                                               121\n",
       " principal administrative aide                            121\n",
       " fire/rescue lieutenant                                   119\n",
       " equipment operator i                                     115\n",
       " program specialist ii                                    107\n",
       " mechanic technician ii                                   107\n",
       " senior information technology specialist                 104\n",
       " public safety communications specialist iii              103\n",
       " social worker iii                                        103\n",
       " therapist ii                                              93\n",
       " deputy sheriff iii                                        92\n",
       " program manager i                                         91\n",
       " library assistant i                                       86\n",
       " community services aide iii                               85\n",
       " permitting and code enforcement inspector iii             84\n",
       "                                                         ... \n",
       " director office of public information                      1\n",
       " director office of community partnerships                  1\n",
       " supply technician i                                        1\n",
       " public relations specialist                                1\n",
       " work force leader i                                        1\n",
       " management and budget specialist ii                        1\n",
       " county attorney                                            1\n",
       " public safety reporting aide i                             1\n",
       " fire chief, fire/rescue service                            1\n",
       " public service craftsworker ii                             1\n",
       " director department of technology services                 1\n",
       " council administrator                                      1\n",
       " director department of permitting services                 1\n",
       " financial programs manager                                 1\n",
       " director department of correction and rehabilitation       1\n",
       " civil works designer                                       1\n",
       " deputy director transportation                             1\n",
       " senior water quality specialist                            1\n",
       " director department of police                              1\n",
       " insurance risk analyst                                     1\n",
       " council president                                          1\n",
       " mail services supervisor                                   1\n",
       " chief aging and disability services                        1\n",
       " senior public health advisor                               1\n",
       " property manager i                                         1\n",
       " executive administrative aide to cao                       1\n",
       " chief special needs housing                                1\n",
       " revenue counter supervisor                                 1\n",
       " engineer i                                                 1\n",
       " imaging operator leader                                    1\n",
       "Name: Employee Position Title, Length: 385, dtype: int64"
      ]
     },
     "execution_count": 18,
     "metadata": {},
     "output_type": "execute_result"
    }
   ],
   "source": [
    "cat_column.value_counts()"
   ]
  },
  {
   "cell_type": "markdown",
   "metadata": {},
   "source": [
    "## Medical Charges"
   ]
  },
  {
   "cell_type": "code",
   "execution_count": 5,
   "metadata": {},
   "outputs": [],
   "source": [
    "data = datasets.Data('medical_charge')"
   ]
  },
  {
   "cell_type": "code",
   "execution_count": 6,
   "metadata": {},
   "outputs": [
    {
     "data": {
      "text/plain": [
       "<datasets.Data at 0x7f35fc0aef28>"
      ]
     },
     "execution_count": 6,
     "metadata": {},
     "output_type": "execute_result"
    }
   ],
   "source": [
    "data.get_df()"
   ]
  },
  {
   "cell_type": "code",
   "execution_count": 7,
   "metadata": {
    "scrolled": true
   },
   "outputs": [
    {
     "data": {
      "text/plain": [
       "{'Average Covered Charges': 'Numerical',\n",
       " 'Average Medicare Payments': 'Delete',\n",
       " 'Average Total Payments': 'y',\n",
       " 'DRG Definition': 'Special',\n",
       " 'Hospital Referral Region (HRR) Description': 'Delete',\n",
       " 'Provider City': 'Delete',\n",
       " 'Provider Id': 'Delete',\n",
       " 'Provider Name': 'Delete',\n",
       " 'Provider State': 'OneHotEncoderDense',\n",
       " 'Provider Street Address': 'Delete',\n",
       " 'Provider Zip Code': 'Delete',\n",
       " 'Total Discharges': 'Delete'}"
      ]
     },
     "execution_count": 7,
     "metadata": {},
     "output_type": "execute_result"
    }
   ],
   "source": [
    "data.col_action"
   ]
  },
  {
   "cell_type": "code",
   "execution_count": 8,
   "metadata": {},
   "outputs": [
    {
     "name": "stdout",
     "output_type": "stream",
     "text": [
      "Preprocessing column: DRG Definition\n"
     ]
    }
   ],
   "source": [
    "data.preprocess()"
   ]
  },
  {
   "cell_type": "code",
   "execution_count": 9,
   "metadata": {},
   "outputs": [],
   "source": [
    "cat_column = data.df['DRG Definition']"
   ]
  },
  {
   "cell_type": "code",
   "execution_count": 10,
   "metadata": {},
   "outputs": [
    {
     "name": "stdout",
     "output_type": "stream",
     "text": [
      "Number of rows: 163065\n",
      "Number of categories: 100\n",
      "Most frequent category: 3023 rows\n",
      "Median number of occurences: 1499.5\n",
      "Number of categories with occurences < (mean n° occurences) / 5: 0\n"
     ]
    },
    {
     "data": {
      "image/png": "[encoded data removed]",
      "text/plain": [
       "<Figure size 432x288 with 1 Axes>"
      ]
     },
     "metadata": {},
     "output_type": "display_data"
    }
   ],
   "source": [
    "overview_category(cat_column)"
   ]
  },
  {
   "cell_type": "code",
   "execution_count": 11,
   "metadata": {
    "scrolled": false
   },
   "outputs": [
    {
     "data": {
      "text/plain": [
       " 194 - simple pneumonia & pleurisy w cc                                         3023\n",
       " 690 - kidney & urinary tract infections w/o mcc                                2989\n",
       " 292 - heart failure & shock w cc                                               2953\n",
       " 392 - esophagitis, gastroent & misc digest disorders w/o mcc                   2950\n",
       " 641 - misc disorders of nutrition,metabolism,fluids/electrolytes w/o mcc       2899\n",
       " 871 - septicemia or severe sepsis w/o mv 96+ hours w mcc                       2812\n",
       " 603 - cellulitis w/o mcc                                                       2807\n",
       " 470 - major joint replacement or reattachment of lower extremity w/o mcc       2750\n",
       " 191 - chronic obstructive pulmonary disease w cc                               2720\n",
       " 190 - chronic obstructive pulmonary disease w mcc                              2713\n",
       " 291 - heart failure & shock w mcc                                              2687\n",
       " 192 - chronic obstructive pulmonary disease w/o cc/mcc                         2671\n",
       " 195 - simple pneumonia & pleurisy w/o cc/mcc                                   2576\n",
       " 193 - simple pneumonia & pleurisy w mcc                                        2575\n",
       " 378 - g.i. hemorrhage w cc                                                     2562\n",
       " 293 - heart failure & shock w/o cc/mcc                                         2514\n",
       " 683 - renal failure w cc                                                       2508\n",
       " 872 - septicemia or severe sepsis w/o mv 96+ hours w/o mcc                     2505\n",
       " 310 - cardiac arrhythmia & conduction disorders w/o cc/mcc                     2403\n",
       " 309 - cardiac arrhythmia & conduction disorders w cc                           2363\n",
       " 812 - red blood cell disorders w/o mcc                                         2321\n",
       " 312 - syncope & collapse                                                       2288\n",
       " 065 - intracranial hemorrhage or cerebral infarction w cc                      2269\n",
       " 313 - chest pain                                                               2230\n",
       " 682 - renal failure w mcc                                                      2144\n",
       " 189 - pulmonary edema & respiratory failure                                    2096\n",
       " 481 - hip & femur procedures except major joint w cc                           2090\n",
       " 208 - respiratory system diagnosis w ventilator support <96 hours              1993\n",
       " 069 - transient ischemia                                                       1962\n",
       " 178 - respiratory infections & inflammations w cc                              1953\n",
       "                                                                                ... \n",
       " 039 - extracranial procedures w/o cc/mcc                                       1079\n",
       " 244 - permanent cardiac pacemaker implant w/o cc/mcc                           1075\n",
       " 238 - major cardiovasc procedures w/o mcc                                      1054\n",
       " 482 - hip & femur procedures except major joint w/o cc/mcc                     1040\n",
       " 684 - renal failure w/o cc/mcc                                                 1008\n",
       " 149 - dysequilibrium                                                            988\n",
       " 563 - fx, sprn, strn & disl except femur, hip, pelvis & thigh w/o mcc           984\n",
       " 074 - cranial & peripheral nerve disorders w/o mcc                              979\n",
       " 491 - back & neck proc exc spinal fusion w/o cc/mcc                             975\n",
       " 418 - laparoscopic cholecystectomy w/o c.d.e. w cc                              959\n",
       " 439 - disorders of pancreas except malignancy w cc                              955\n",
       " 249 - perc cardiovasc proc w non-drug-eluting stent w/o mcc                     955\n",
       " 602 - cellulitis w mcc                                                          945\n",
       " 870 - septicemia or severe sepsis w mv 96+ hours                                939\n",
       " 469 - major joint replacement or reattachment of lower extremity w mcc          932\n",
       " 480 - hip & femur procedures except major joint w mcc                           929\n",
       " 254 - other vascular procedures w/o cc/mcc                                      920\n",
       " 699 - other kidney & urinary tract diagnoses w cc                               920\n",
       " 246 - perc cardiovasc proc w drug-eluting stent w mcc or 4+ vessels/stents      917\n",
       " 286 - circulatory disorders except ami, w card cath w mcc                       910\n",
       " 897 - alcohol/drug abuse or dependence w/o rehabilitation therapy w/o mcc       906\n",
       " 203 - bronchitis & asthma w/o cc/mcc                                            894\n",
       " 301 - peripheral vascular disorders w/o cc/mcc                                  877\n",
       " 698 - other kidney & urinary tract diagnoses w mcc                              874\n",
       " 419 - laparoscopic cholecystectomy w/o c.d.e. w/o cc/mcc                        871\n",
       " 315 - other circulatory system diagnoses w cc                                   859\n",
       " 473 - cervical spinal fusion w/o cc/mcc                                         846\n",
       " 917 - poisoning & toxic effects of drugs w mcc                                  843\n",
       " 251 - perc cardiovasc proc w/o coronary artery stent w/o mcc                    727\n",
       " 885 - psychoses                                                                 613\n",
       "Name: DRG Definition, Length: 100, dtype: int64"
      ]
     },
     "execution_count": 11,
     "metadata": {},
     "output_type": "execute_result"
    }
   ],
   "source": [
    "cat_column.value_counts()"
   ]
  },
  {
   "cell_type": "markdown",
   "metadata": {},
   "source": [
    "## Adults"
   ]
  },
  {
   "cell_type": "code",
   "execution_count": 19,
   "metadata": {},
   "outputs": [],
   "source": [
    "data = datasets.Data('adult')"
   ]
  },
  {
   "cell_type": "code",
   "execution_count": 20,
   "metadata": {},
   "outputs": [
    {
     "data": {
      "text/plain": [
       "<datasets.Data at 0x7f8f0da5dcc0>"
      ]
     },
     "execution_count": 20,
     "metadata": {},
     "output_type": "execute_result"
    }
   ],
   "source": [
    "data.get_df()"
   ]
  },
  {
   "cell_type": "code",
   "execution_count": 21,
   "metadata": {},
   "outputs": [
    {
     "data": {
      "text/plain": [
       "{'age': 'Numerical',\n",
       " 'capital-gain': 'Numerical',\n",
       " 'capital-loss': 'Numerical',\n",
       " 'education': 'OneHotEncoderDense',\n",
       " 'education-num': 'Numerical',\n",
       " 'fnlwgt': 'Delete',\n",
       " 'hours-per-week': 'Numerical',\n",
       " 'income': 'y',\n",
       " 'marital-status': 'OneHotEncoderDense',\n",
       " 'native-country': 'OneHotEncoderDense',\n",
       " 'occupation': 'Special',\n",
       " 'race': 'OneHotEncoderDense',\n",
       " 'relationship': 'OneHotEncoderDense',\n",
       " 'sex': 'OneHotEncoderDense',\n",
       " 'workclass': 'OneHotEncoderDense'}"
      ]
     },
     "execution_count": 21,
     "metadata": {},
     "output_type": "execute_result"
    }
   ],
   "source": [
    "data.col_action"
   ]
  },
  {
   "cell_type": "code",
   "execution_count": 22,
   "metadata": {},
   "outputs": [
    {
     "name": "stdout",
     "output_type": "stream",
     "text": [
      "Preprocessing column: occupation\n"
     ]
    }
   ],
   "source": [
    "data.preprocess()"
   ]
  },
  {
   "cell_type": "code",
   "execution_count": 23,
   "metadata": {},
   "outputs": [],
   "source": [
    "cat_column = data.df['occupation']"
   ]
  },
  {
   "cell_type": "code",
   "execution_count": 24,
   "metadata": {},
   "outputs": [
    {
     "name": "stdout",
     "output_type": "stream",
     "text": [
      "Number of rows: 30718\n",
      "Number of categories: 14\n",
      "Most occuring category: 4140 rows\n",
      "Median number of occurences: 1799.5\n",
      "Number of categories with occurences < (mean n° occurences) / 5: 2\n"
     ]
    },
    {
     "data": {
      "image/png": "[encoded data removed]",
      "text/plain": [
       "<Figure size 432x288 with 1 Axes>"
      ]
     },
     "metadata": {},
     "output_type": "display_data"
    }
   ],
   "source": [
    "overview_category(cat_column)"
   ]
  },
  {
   "cell_type": "code",
   "execution_count": 25,
   "metadata": {
    "scrolled": true
   },
   "outputs": [
    {
     "data": {
      "text/plain": [
       "  prof-specialty        4140\n",
       "  craft-repair          4099\n",
       "  exec-managerial       4066\n",
       "  adm-clerical          3770\n",
       "  sales                 3650\n",
       "  other-service         3295\n",
       "  machine-op-inspct     2002\n",
       "  transport-moving      1597\n",
       "  handlers-cleaners     1370\n",
       "  farming-fishing        994\n",
       "  tech-support           928\n",
       "  protective-serv        649\n",
       "  priv-house-serv        149\n",
       "  armed-forces             9\n",
       "Name: occupation, dtype: int64"
      ]
     },
     "execution_count": 25,
     "metadata": {},
     "output_type": "execute_result"
    }
   ],
   "source": [
    "cat_column.value_counts()"
   ]
  },
  {
   "cell_type": "code",
   "execution_count": null,
   "metadata": {},
   "outputs": [],
   "source": []
  },
  {
   "cell_type": "code",
   "execution_count": null,
   "metadata": {},
   "outputs": [],
   "source": []
  },
  {
   "cell_type": "code",
   "execution_count": 5,
   "metadata": {},
   "outputs": [],
   "source": [
    "data = datasets.Data('medical_charge')"
   ]
  },
  {
   "cell_type": "code",
   "execution_count": 8,
   "metadata": {},
   "outputs": [
    {
     "data": {
      "text/plain": [
       "{'% BachelorsDeg or higher': 'Delete',\n",
       " '% Owner occupied housing': 'Delete',\n",
       " '% Renter occupied housing': 'Delete',\n",
       " '% Vacant housing': 'Delete',\n",
       " '2012 state winner': 'Delete',\n",
       " 'Average Covered Charges': 'Numerical',\n",
       " 'Average Total Payments': 'y',\n",
       " 'Average household size': 'Delete',\n",
       " 'House hold growth 2010 to 2015 annual': 'Delete',\n",
       " 'Median age': 'Delete',\n",
       " 'Median home value': 'Delete',\n",
       " 'Medical procedure': 'Special',\n",
       " 'Per capita income': 'Delete',\n",
       " 'Per capita income growth 2010 to 2015 annual': 'Delete',\n",
       " 'Population growth 2010 to 2015 annual': 'Delete',\n",
       " 'State': 'OneHotEncoderDense',\n",
       " 'Total Discharges': 'Delete',\n",
       " 'Total households': 'Delete',\n",
       " 'Total population': 'Delete',\n",
       " 'Unemployment rate': 'Delete'}"
      ]
     },
     "execution_count": 8,
     "metadata": {},
     "output_type": "execute_result"
    }
   ],
   "source": [
    "data.col_action"
   ]
  },
  {
   "cell_type": "code",
   "execution_count": null,
   "metadata": {},
   "outputs": [],
   "source": []
  },
  {
   "cell_type": "code",
   "execution_count": null,
   "metadata": {},
   "outputs": [],
   "source": []
  },
  {
   "cell_type": "code",
   "execution_count": null,
   "metadata": {},
   "outputs": [],
   "source": []
  }
 ],
 "metadata": {
  "kernelspec": {
   "display_name": "Python 3",
   "language": "python",
   "name": "python3"
  },
  "language_info": {
   "codemirror_mode": {
    "name": "ipython",
    "version": 3
   },
   "file_extension": ".py",
   "mimetype": "text/x-python",
   "name": "python",
   "nbconvert_exporter": "python",
   "pygments_lexer": "ipython3",
   "version": "3.5.5"
  }
 },
 "nbformat": 4,
 "nbformat_minor": 2
}
