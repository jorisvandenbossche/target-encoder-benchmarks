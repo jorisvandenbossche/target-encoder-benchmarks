{
 "cells": [
  {
   "cell_type": "markdown",
   "metadata": {},
   "source": [
    "# Overview of the datasets used in the benchmarks"
   ]
  },
  {
   "cell_type": "code",
   "execution_count": 1,
   "metadata": {},
   "outputs": [],
   "source": [
    "%matplotlib inline"
   ]
  },
  {
   "cell_type": "code",
   "execution_count": 2,
   "metadata": {},
   "outputs": [],
   "source": [
    "import os\n",
    "import glob\n",
    "\n",
    "import numpy as np\n",
    "import pandas as pd\n",
    "import matplotlib.pyplot as plt"
   ]
  },
  {
   "cell_type": "code",
   "execution_count": 3,
   "metadata": {},
   "outputs": [],
   "source": [
    "import datasets"
   ]
  },
  {
   "cell_type": "code",
   "execution_count": 4,
   "metadata": {},
   "outputs": [],
   "source": [
    "def overview_category(cat_column):\n",
    "    n = len(cat_column)\n",
    "    n_cat = len(cat_column.unique())\n",
    "    counts = cat_column.value_counts()\n",
    "    n_most_occuring = counts.iloc[0]\n",
    "    n_median = counts.median()\n",
    "    n_under_mean5 = np.sum(counts < (counts.mean() / 5))\n",
    "    print(\n",
    "        \"Number of rows: {n}\\n\"\n",
    "        \"Number of categories: {n_cat}\\n\"\n",
    "        \"Most frequent category: {n_most_occuring} rows\\n\"\n",
    "        \"Median number of occurences: {n_median}\\n\"\n",
    "        \"Number of categories with occurences < (mean n° occurences) / 5: {n_under_mean5}\"\n",
    "        .format(n=n, n_cat=n_cat, n_most_occuring=n_most_occuring,\n",
    "                n_median=n_median, n_under_mean5=n_under_mean5))\n",
    "    \n",
    "    plt.plot(np.asarray(cat_column.value_counts()))"
   ]
  },
  {
   "cell_type": "code",
   "execution_count": 5,
   "metadata": {},
   "outputs": [],
   "source": [
    "data = datasets.get_dataset('house_sales')"
   ]
  },
  {
   "cell_type": "code",
   "execution_count": 6,
   "metadata": {},
   "outputs": [
    {
     "data": {
      "text/plain": [
       "<datasets.HouseSalesDataset at 0x7f02a1d0a6a0>"
      ]
     },
     "execution_count": 6,
     "metadata": {},
     "output_type": "execute_result"
    }
   ],
   "source": [
    "data.get_df()"
   ]
  },
  {
   "cell_type": "code",
   "execution_count": 7,
   "metadata": {},
   "outputs": [
    {
     "data": {
      "text/plain": [
       "{'bathrooms': 'Numerical',\n",
       " 'bedrooms': 'Numerical',\n",
       " 'condition': 'Numerical',\n",
       " 'date': 'Delete',\n",
       " 'floors': 'Numerical',\n",
       " 'grade': 'Numerical',\n",
       " 'lat': 'Delete',\n",
       " 'long': 'Delete',\n",
       " 'price': 'y',\n",
       " 'sqft_above': 'Numerical',\n",
       " 'sqft_basement': 'Numerical',\n",
       " 'sqft_living': 'Numerical',\n",
       " 'sqft_living15': 'Delete',\n",
       " 'sqft_lot': 'Numerical',\n",
       " 'sqft_lot15': 'Delete',\n",
       " 'view': 'Numerical',\n",
       " 'waterfront': 'Numerical',\n",
       " 'yr_built': 'Numerical',\n",
       " 'yr_renovated': 'Delete',\n",
       " 'zipcode': 'Special'}"
      ]
     },
     "execution_count": 7,
     "metadata": {},
     "output_type": "execute_result"
    }
   ],
   "source": [
    "data.col_action"
   ]
  },
  {
   "cell_type": "code",
   "execution_count": 8,
   "metadata": {},
   "outputs": [
    {
     "name": "stdout",
     "output_type": "stream",
     "text": [
      "Preprocessing column: zipcode\n"
     ]
    }
   ],
   "source": [
    "data.preprocess()"
   ]
  },
  {
   "cell_type": "code",
   "execution_count": 9,
   "metadata": {},
   "outputs": [
    {
     "name": "stdout",
     "output_type": "stream",
     "text": [
      "Number of rows: 21613\n",
      "Number of categories: 70\n",
      "Most frequent category: 602 rows\n",
      "Median number of occurences: 282.5\n",
      "Number of categories with occurences < (mean n° occurences) / 5: 2\n"
     ]
    },
    {
     "data": {
      "image/png": "[encoded data removed]",
      "text/plain": [
       "<Figure size 432x288 with 1 Axes>"
      ]
     },
     "metadata": {
      "needs_background": "light"
     },
     "output_type": "display_data"
    }
   ],
   "source": [
    "overview_category(data.df['zipcode'])"
   ]
  },
  {
   "cell_type": "markdown",
   "metadata": {},
   "source": [
    "## Employee Salaries"
   ]
  },
  {
   "cell_type": "code",
   "execution_count": 5,
   "metadata": {},
   "outputs": [],
   "source": [
    "data = datasets.get_dataset('employee_salaries')"
   ]
  },
  {
   "cell_type": "code",
   "execution_count": 6,
   "metadata": {},
   "outputs": [
    {
     "data": {
      "text/plain": [
       "<datasets.EmployeeSalariesDataset at 0x7fe0a1b60668>"
      ]
     },
     "execution_count": 6,
     "metadata": {},
     "output_type": "execute_result"
    }
   ],
   "source": [
    "data.get_df()"
   ]
  },
  {
   "cell_type": "code",
   "execution_count": 7,
   "metadata": {
    "scrolled": true
   },
   "outputs": [
    {
     "data": {
      "text/plain": [
       "{'Full Name': 'Delete',\n",
       " 'Gender': 'OneHotEncoderDense',\n",
       " 'Current Annual Salary': 'y',\n",
       " '2016 Gross Pay Received': 'Delete',\n",
       " '2016 Overtime Pay': 'Delete',\n",
       " 'Department': 'Delete',\n",
       " 'Department Name': 'OneHotEncoderDense',\n",
       " 'Division': 'OneHotEncoderDense',\n",
       " 'Assignment Category': 'OneHotEncoderDense-1',\n",
       " 'Employee Position Title': 'Special',\n",
       " 'Underfilled Job Title': 'Delete',\n",
       " 'Year First Hired': 'Numerical'}"
      ]
     },
     "execution_count": 7,
     "metadata": {},
     "output_type": "execute_result"
    }
   ],
   "source": [
    "data.col_action"
   ]
  },
  {
   "cell_type": "code",
   "execution_count": 8,
   "metadata": {},
   "outputs": [
    {
     "name": "stdout",
     "output_type": "stream",
     "text": [
      "Preprocessing column: Employee Position Title\n"
     ]
    }
   ],
   "source": [
    "data.preprocess()"
   ]
  },
  {
   "cell_type": "code",
   "execution_count": 9,
   "metadata": {},
   "outputs": [],
   "source": [
    "cat_column = data.df['Employee Position Title']"
   ]
  },
  {
   "cell_type": "code",
   "execution_count": 10,
   "metadata": {},
   "outputs": [
    {
     "name": "stdout",
     "output_type": "stream",
     "text": [
      "Number of rows: 9228\n",
      "Number of categories: 385\n",
      "Most frequent category: 883 rows\n",
      "Median number of occurences: 4.0\n",
      "Number of categories with occurences < (mean n° occurences) / 5: 196\n"
     ]
    },
    {
     "data": {
      "image/png": "[encoded data removed]",
      "text/plain": [
       "<Figure size 432x288 with 1 Axes>"
      ]
     },
     "metadata": {
      "needs_background": "light"
     },
     "output_type": "display_data"
    }
   ],
   "source": [
    "overview_category(cat_column)"
   ]
  },
  {
   "cell_type": "code",
   "execution_count": 11,
   "metadata": {
    "scrolled": false
   },
   "outputs": [
    {
     "data": {
      "text/plain": [
       " police officer iii                                883\n",
       " firefighter/rescuer iii                           694\n",
       " bus operator                                      638\n",
       " manager iii                                       243\n",
       " correctional officer iii (corporal)               228\n",
       " master firefighter/rescuer                        218\n",
       " office services coordinator                       207\n",
       " school health room technician i                   204\n",
       " community health nurse ii                         165\n",
       " crossing guard                                    161\n",
       " income assistance program specialist ii           155\n",
       " program manager ii                                145\n",
       " fire/rescue captain                               141\n",
       " police sergeant                                   140\n",
       " liquor store clerk i                              128\n",
       " principal administrative aide                     121\n",
       " manager ii                                        121\n",
       " fire/rescue lieutenant                            119\n",
       " equipment operator i                              115\n",
       " mechanic technician ii                            107\n",
       " program specialist ii                             107\n",
       " senior information technology specialist          104\n",
       " social worker iii                                 103\n",
       " public safety communications specialist iii       103\n",
       " therapist ii                                       93\n",
       " deputy sheriff iii                                 92\n",
       " program manager i                                  91\n",
       " library assistant i                                86\n",
       " community services aide iii                        85\n",
       " permitting and code enforcement inspector iii      84\n",
       "                                                  ... \n",
       " psychologist supervisor                             1\n",
       " information technology project manager              1\n",
       " senior public health advisor                        1\n",
       " staff veterinarian                                  1\n",
       " director office of management and budget            1\n",
       " director department of technology services          1\n",
       " legislative analyst ii                              1\n",
       " director department of public libraries             1\n",
       " land survey supervisor                              1\n",
       " chief veterinarian                                  1\n",
       " accountant/auditor ii                               1\n",
       " lead revenue counter                                1\n",
       " traffic field service technician ii                 1\n",
       " chief special needs housing                         1\n",
       " senior latent print examiner                        1\n",
       " insurance fund manager                              1\n",
       " investment officer                                  1\n",
       " supply technician i                                 1\n",
       " director office of legislative oversight            1\n",
       " information technology technician i                 1\n",
       " public administration intern                        1\n",
       " inspector general                                   1\n",
       " secretary to appellate judge                        1\n",
       " director department of permitting services          1\n",
       " government records/warehouse clerk                  1\n",
       " director office of public information               1\n",
       " hearing examiner                                    1\n",
       " senior water quality specialist                     1\n",
       " management and budget specialist ii                 1\n",
       " imaging operator leader                             1\n",
       "Name: Employee Position Title, Length: 385, dtype: int64"
      ]
     },
     "execution_count": 11,
     "metadata": {},
     "output_type": "execute_result"
    }
   ],
   "source": [
    "cat_column.value_counts()"
   ]
  },
  {
   "cell_type": "markdown",
   "metadata": {},
   "source": [
    "## Medical Charges"
   ]
  },
  {
   "cell_type": "code",
   "execution_count": 5,
   "metadata": {},
   "outputs": [],
   "source": [
    "data = datasets.get_dataset('medical_charge')"
   ]
  },
  {
   "cell_type": "code",
   "execution_count": 13,
   "metadata": {},
   "outputs": [
    {
     "data": {
      "text/plain": [
       "<datasets.MedicalChargeDataset at 0x7fcdb4fb4e48>"
      ]
     },
     "execution_count": 13,
     "metadata": {},
     "output_type": "execute_result"
    }
   ],
   "source": [
    "data.get_df()"
   ]
  },
  {
   "cell_type": "code",
   "execution_count": 14,
   "metadata": {
    "scrolled": true
   },
   "outputs": [
    {
     "data": {
      "text/plain": [
       "{'DRG Definition': 'Special',\n",
       " 'Provider Id': 'Delete',\n",
       " 'Provider Name': 'Delete',\n",
       " 'Provider Street Address': 'Delete',\n",
       " 'Provider City': 'Delete',\n",
       " 'Provider State': 'OneHotEncoderDense',\n",
       " 'Provider Zip Code': 'Delete',\n",
       " 'Hospital Referral Region (HRR) Description': 'Delete',\n",
       " 'Total Discharges': 'Delete',\n",
       " 'Average Covered Charges': 'Numerical',\n",
       " 'Average Total Payments': 'y',\n",
       " 'Average Medicare Payments': 'Delete'}"
      ]
     },
     "execution_count": 14,
     "metadata": {},
     "output_type": "execute_result"
    }
   ],
   "source": [
    "data.col_action"
   ]
  },
  {
   "cell_type": "code",
   "execution_count": 15,
   "metadata": {},
   "outputs": [
    {
     "name": "stdout",
     "output_type": "stream",
     "text": [
      "Preprocessing column: DRG Definition\n"
     ]
    }
   ],
   "source": [
    "data.preprocess()"
   ]
  },
  {
   "cell_type": "code",
   "execution_count": 16,
   "metadata": {},
   "outputs": [],
   "source": [
    "cat_column = data.df['DRG Definition']"
   ]
  },
  {
   "cell_type": "code",
   "execution_count": 17,
   "metadata": {},
   "outputs": [
    {
     "name": "stdout",
     "output_type": "stream",
     "text": [
      "Number of rows: 163065\n",
      "Number of categories: 100\n",
      "Most frequent category: 3023 rows\n",
      "Median number of occurences: 1499.5\n",
      "Number of categories with occurences < (mean n° occurences) / 5: 0\n"
     ]
    },
    {
     "data": {
      "image/png": "[encoded data removed]",
      "text/plain": [
       "<Figure size 432x288 with 1 Axes>"
      ]
     },
     "metadata": {
      "needs_background": "light"
     },
     "output_type": "display_data"
    }
   ],
   "source": [
    "overview_category(cat_column)"
   ]
  },
  {
   "cell_type": "code",
   "execution_count": 18,
   "metadata": {
    "scrolled": false
   },
   "outputs": [
    {
     "data": {
      "text/plain": [
       " 194 - simple pneumonia & pleurisy w cc                                         3023\n",
       " 690 - kidney & urinary tract infections w/o mcc                                2989\n",
       " 292 - heart failure & shock w cc                                               2953\n",
       " 392 - esophagitis, gastroent & misc digest disorders w/o mcc                   2950\n",
       " 641 - misc disorders of nutrition,metabolism,fluids/electrolytes w/o mcc       2899\n",
       " 871 - septicemia or severe sepsis w/o mv 96+ hours w mcc                       2812\n",
       " 603 - cellulitis w/o mcc                                                       2807\n",
       " 470 - major joint replacement or reattachment of lower extremity w/o mcc       2750\n",
       " 191 - chronic obstructive pulmonary disease w cc                               2720\n",
       " 190 - chronic obstructive pulmonary disease w mcc                              2713\n",
       " 291 - heart failure & shock w mcc                                              2687\n",
       " 192 - chronic obstructive pulmonary disease w/o cc/mcc                         2671\n",
       " 195 - simple pneumonia & pleurisy w/o cc/mcc                                   2576\n",
       " 193 - simple pneumonia & pleurisy w mcc                                        2575\n",
       " 378 - g.i. hemorrhage w cc                                                     2562\n",
       " 293 - heart failure & shock w/o cc/mcc                                         2514\n",
       " 683 - renal failure w cc                                                       2508\n",
       " 872 - septicemia or severe sepsis w/o mv 96+ hours w/o mcc                     2505\n",
       " 310 - cardiac arrhythmia & conduction disorders w/o cc/mcc                     2403\n",
       " 309 - cardiac arrhythmia & conduction disorders w cc                           2363\n",
       " 812 - red blood cell disorders w/o mcc                                         2321\n",
       " 312 - syncope & collapse                                                       2288\n",
       " 065 - intracranial hemorrhage or cerebral infarction w cc                      2269\n",
       " 313 - chest pain                                                               2230\n",
       " 682 - renal failure w mcc                                                      2144\n",
       " 189 - pulmonary edema & respiratory failure                                    2096\n",
       " 481 - hip & femur procedures except major joint w cc                           2090\n",
       " 208 - respiratory system diagnosis w ventilator support <96 hours              1993\n",
       " 069 - transient ischemia                                                       1962\n",
       " 178 - respiratory infections & inflammations w cc                              1953\n",
       "                                                                                ... \n",
       " 039 - extracranial procedures w/o cc/mcc                                       1079\n",
       " 244 - permanent cardiac pacemaker implant w/o cc/mcc                           1075\n",
       " 238 - major cardiovasc procedures w/o mcc                                      1054\n",
       " 482 - hip & femur procedures except major joint w/o cc/mcc                     1040\n",
       " 684 - renal failure w/o cc/mcc                                                 1008\n",
       " 149 - dysequilibrium                                                            988\n",
       " 563 - fx, sprn, strn & disl except femur, hip, pelvis & thigh w/o mcc           984\n",
       " 074 - cranial & peripheral nerve disorders w/o mcc                              979\n",
       " 491 - back & neck proc exc spinal fusion w/o cc/mcc                             975\n",
       " 418 - laparoscopic cholecystectomy w/o c.d.e. w cc                              959\n",
       " 439 - disorders of pancreas except malignancy w cc                              955\n",
       " 249 - perc cardiovasc proc w non-drug-eluting stent w/o mcc                     955\n",
       " 602 - cellulitis w mcc                                                          945\n",
       " 870 - septicemia or severe sepsis w mv 96+ hours                                939\n",
       " 469 - major joint replacement or reattachment of lower extremity w mcc          932\n",
       " 480 - hip & femur procedures except major joint w mcc                           929\n",
       " 699 - other kidney & urinary tract diagnoses w cc                               920\n",
       " 254 - other vascular procedures w/o cc/mcc                                      920\n",
       " 246 - perc cardiovasc proc w drug-eluting stent w mcc or 4+ vessels/stents      917\n",
       " 286 - circulatory disorders except ami, w card cath w mcc                       910\n",
       " 897 - alcohol/drug abuse or dependence w/o rehabilitation therapy w/o mcc       906\n",
       " 203 - bronchitis & asthma w/o cc/mcc                                            894\n",
       " 301 - peripheral vascular disorders w/o cc/mcc                                  877\n",
       " 698 - other kidney & urinary tract diagnoses w mcc                              874\n",
       " 419 - laparoscopic cholecystectomy w/o c.d.e. w/o cc/mcc                        871\n",
       " 315 - other circulatory system diagnoses w cc                                   859\n",
       " 473 - cervical spinal fusion w/o cc/mcc                                         846\n",
       " 917 - poisoning & toxic effects of drugs w mcc                                  843\n",
       " 251 - perc cardiovasc proc w/o coronary artery stent w/o mcc                    727\n",
       " 885 - psychoses                                                                 613\n",
       "Name: DRG Definition, Length: 100, dtype: int64"
      ]
     },
     "execution_count": 18,
     "metadata": {},
     "output_type": "execute_result"
    }
   ],
   "source": [
    "cat_column.value_counts()"
   ]
  },
  {
   "cell_type": "code",
   "execution_count": null,
   "metadata": {},
   "outputs": [],
   "source": []
  },
  {
   "cell_type": "markdown",
   "metadata": {},
   "source": [
    "## Traffic violations"
   ]
  },
  {
   "cell_type": "code",
   "execution_count": 5,
   "metadata": {},
   "outputs": [],
   "source": [
    "data = datasets.get_dataset('traffic_violations')"
   ]
  },
  {
   "cell_type": "code",
   "execution_count": 6,
   "metadata": {},
   "outputs": [
    {
     "data": {
      "text/plain": [
       "<datasets.TrafficViolationsDataset at 0x7feb080b5a90>"
      ]
     },
     "execution_count": 6,
     "metadata": {},
     "output_type": "execute_result"
    }
   ],
   "source": [
    "data.get_df()"
   ]
  },
  {
   "cell_type": "code",
   "execution_count": 7,
   "metadata": {
    "scrolled": true
   },
   "outputs": [
    {
     "data": {
      "text/plain": [
       "{'Accident': 'Delete',\n",
       " 'Agency': 'Delete',\n",
       " 'Alcohol': 'OneHotEncoderDense-1',\n",
       " 'Arrest Type': 'OneHotEncoderDense',\n",
       " 'Article': 'Delete',\n",
       " 'Belts': 'OneHotEncoderDense-1',\n",
       " 'Charge': 'Delete',\n",
       " 'Color': 'Delete',\n",
       " 'Commercial License': 'OneHotEncoderDense-1',\n",
       " 'Commercial Vehicle': 'OneHotEncoderDense-1',\n",
       " 'Contributed To Accident': 'Delete',\n",
       " 'DL State': 'Delete',\n",
       " 'Date Of Stop': 'Delete',\n",
       " 'Description': 'Special',\n",
       " 'Driver City': 'Delete',\n",
       " 'Driver State': 'Delete',\n",
       " 'Fatal': 'OneHotEncoderDense-1',\n",
       " 'Gender': 'OneHotEncoderDense',\n",
       " 'Geolocation': 'Delete',\n",
       " 'HAZMAT': 'OneHotEncoderDense',\n",
       " 'Latitude': 'Delete',\n",
       " 'Location': 'Delete',\n",
       " 'Longitude': 'Delete',\n",
       " 'Make': 'Delete',\n",
       " 'Model': 'Delete',\n",
       " 'Personal Injury': 'Delete',\n",
       " 'Property Damage': 'OneHotEncoderDense-1',\n",
       " 'Race': 'OneHotEncoderDense',\n",
       " 'State': 'Delete',\n",
       " 'SubAgency': 'Delete',\n",
       " 'Time Of Stop': 'Delete',\n",
       " 'VehicleType': 'Delete',\n",
       " 'Violation Type': 'y',\n",
       " 'Work Zone': 'OneHotEncoderDense-1',\n",
       " 'Year': 'Numerical'}"
      ]
     },
     "execution_count": 7,
     "metadata": {},
     "output_type": "execute_result"
    }
   ],
   "source": [
    "data.col_action"
   ]
  },
  {
   "cell_type": "code",
   "execution_count": 8,
   "metadata": {},
   "outputs": [
    {
     "name": "stdout",
     "output_type": "stream",
     "text": [
      "Preprocessing column: Description\n"
     ]
    }
   ],
   "source": [
    "data.preprocess()"
   ]
  },
  {
   "cell_type": "code",
   "execution_count": 10,
   "metadata": {},
   "outputs": [],
   "source": [
    "cat_column = data.df['Description']"
   ]
  },
  {
   "cell_type": "code",
   "execution_count": 11,
   "metadata": {},
   "outputs": [
    {
     "name": "stdout",
     "output_type": "stream",
     "text": [
      "Number of rows: 1474875\n",
      "Number of categories: 13173\n",
      "Most frequent category: 121033 rows\n",
      "Median number of occurences: 1.0\n",
      "Number of categories with occurences < (mean n° occurences) / 5: 11882\n"
     ]
    },
    {
     "data": {
      "image/png": "[encoded data removed]",
      "text/plain": [
       "<Figure size 432x288 with 1 Axes>"
      ]
     },
     "metadata": {
      "needs_background": "light"
     },
     "output_type": "display_data"
    }
   ],
   "source": [
    "overview_category(cat_column)"
   ]
  },
  {
   "cell_type": "code",
   "execution_count": 12,
   "metadata": {
    "scrolled": false
   },
   "outputs": [
    {
     "data": {
      "text/plain": [
       " driver failure to obey properly placed traffic control device instructions                               121033\n",
       " failure to display registration card upon demand by police officer                                        69817\n",
       " driving vehicle on highway with suspended registration                                                    47977\n",
       " failure of individual driving on highway to display license to uniformed police on demand                 38773\n",
       " driver using hands to use handheld telephone whilemotor vehicle is in motion                              36056\n",
       " displaying expired registration plate issued by any state                                                 35084\n",
       " driver failure to stop at stop sign line                                                                  33615\n",
       " person driving motor vehicle on highway or public use property on suspended license and privilege         29457\n",
       " stop lights (*)                                                                                           25801\n",
       " driving vehicle on highway without current registration plates and validation tabs                        24356\n",
       " exceeding the posted speed limit of 40 mph                                                                23607\n",
       " exceeding the posted speed limit of 30 mph                                                                23073\n",
       " failure of veh. on hwy. to display lighted lamps, illuminating device in unfavorable visibility cond      20825\n",
       " driving motor vehicle on highway without required license and authorization                               19883\n",
       " driver changing lanes when unsafe                                                                         19848\n",
       " negligent driving vehicle in careless and imprudent manner endangering property, life and person          19747\n",
       " operator not restrained by seatbelt                                                                       18343\n",
       " driving vehicle while under the influence of alcohol                                                      18223\n",
       " exceeding the posted speed limit of 35 mph                                                                17966\n",
       " failure of licensee to notify administration of change of address within 30 days                          16759\n",
       " driving veh. w/o adequate rear reg. plate illumination                                                    16700\n",
       " driver failure to stop at steady circular red signal                                                      16370\n",
       " failure to attach vehicle registration plates at front and rear                                           15853\n",
       " failure to display two lighted front lamps when required                                                  15146\n",
       " driving while impaired by alcohol                                                                         15093\n",
       " driver fail to stop at flashing red traffic signal stop line                                              14904\n",
       " failure to stop at stop sign                                                                              14563\n",
       " failure to control vehicle speed on highway to avoid collision                                            13669\n",
       " driving veh. on hwy. w/o required minimum equipment                                                       13073\n",
       " operating vehicle on highway with unauthorized window tinting material                                    13054\n",
       "                                                                                                           ...  \n",
       " e displaying expired registration plate issued by any state                                                   1\n",
       " trailer- stoplights both sides inoperative                                                                    1\n",
       " standing veh. w/i 30 ft of flashing signal,  traffic control signal                                           1\n",
       " failure to display fluorescent warning flag on rear portion of transported vehicle                            1\n",
       " motor veh. equipped with unlawfully modified exhaust system/ noise abatement device                           1\n",
       " participating as timekeeper, flagman in  speed contest on hwy.                                                1\n",
       " driving vehicle in excess of reasonable and prudent speed on highway of 55                                    1\n",
       " failure of veh. owner to appy to adm. for revised cert. of title after veh. information change                1\n",
       " owner of motor scooter, failure to displaydecal on vehicle as prescribed by mva                               1\n",
       " driving  veh. while impairedby alcohol                                                                        1\n",
       " throwing, dumping, discharge  any refuse on hwy.                                                              1\n",
       " driving vehicle in excess of reasonable and prudent speed on highway 79 in a 45)                              1\n",
       " displaying reg. plate issued for other vehichle                                                               1\n",
       " fail to transport child under age 16 in  seat belt                                                            1\n",
       " speed greater than reasoonable                                                                                1\n",
       " driver failure to yield right of way  crossing hwy. from private  driveway)                                   1\n",
       " displaying reg. plate to other person)                                                                        1\n",
       " oper. m/v with occupant under 16 not restrained by child safety seat                                          1\n",
       " failing to stop until safe to continue through intersection w/ nonfunct. traf. signal                         1\n",
       " missing rear id lights, rear clearance lights,rear side marker lights                                         1\n",
       " person driving, on hwy.  with visible  blue lamp, device                                                      1\n",
       " materially altering veh. equipment after  repair order) cert. issued.                                         1\n",
       " parts not specifically provided for not in safe operating condition- front shocks broken                      1\n",
       " headlight,  marker light inoperative                                                                          1\n",
       " driving while using cell                                                                                      1\n",
       " fail to provide id                                                                                            1\n",
       " driving unsafe veh. on hwy./ tinted taillights                                                                1\n",
       " taillight & stoplight inoperative                                                                             1\n",
       " rt and left trailer taillights inoperative                                                                    1\n",
       " driving vehicle in excess of reasonable and prudent speed on highway 70 mph in a 55 mph zone                  1\n",
       "Name: Description, Length: 13173, dtype: int64"
      ]
     },
     "execution_count": 12,
     "metadata": {},
     "output_type": "execute_result"
    }
   ],
   "source": [
    "cat_column.value_counts()"
   ]
  },
  {
   "cell_type": "markdown",
   "metadata": {},
   "source": [
    "## Adults"
   ]
  },
  {
   "cell_type": "code",
   "execution_count": 19,
   "metadata": {},
   "outputs": [],
   "source": [
    "data = datasets.get_dataset('adult')"
   ]
  },
  {
   "cell_type": "code",
   "execution_count": 20,
   "metadata": {},
   "outputs": [
    {
     "data": {
      "text/plain": [
       "<datasets.AdultDataset at 0x7fcdada50828>"
      ]
     },
     "execution_count": 20,
     "metadata": {},
     "output_type": "execute_result"
    }
   ],
   "source": [
    "data.get_df()"
   ]
  },
  {
   "cell_type": "code",
   "execution_count": 21,
   "metadata": {},
   "outputs": [
    {
     "data": {
      "text/plain": [
       "{'age': 'Numerical',\n",
       " 'workclass': 'OneHotEncoderDense',\n",
       " 'fnlwgt': 'Delete',\n",
       " 'education': 'OneHotEncoderDense',\n",
       " 'education-num': 'Numerical',\n",
       " 'marital-status': 'OneHotEncoderDense',\n",
       " 'occupation': 'Special',\n",
       " 'relationship': 'OneHotEncoderDense',\n",
       " 'race': 'OneHotEncoderDense',\n",
       " 'sex': 'OneHotEncoderDense',\n",
       " 'capital-gain': 'Numerical',\n",
       " 'capital-loss': 'Numerical',\n",
       " 'hours-per-week': 'Numerical',\n",
       " 'native-country': 'OneHotEncoderDense',\n",
       " 'income': 'y'}"
      ]
     },
     "execution_count": 21,
     "metadata": {},
     "output_type": "execute_result"
    }
   ],
   "source": [
    "data.col_action"
   ]
  },
  {
   "cell_type": "code",
   "execution_count": 22,
   "metadata": {},
   "outputs": [
    {
     "name": "stdout",
     "output_type": "stream",
     "text": [
      "Preprocessing column: occupation\n"
     ]
    }
   ],
   "source": [
    "data.preprocess()"
   ]
  },
  {
   "cell_type": "code",
   "execution_count": 23,
   "metadata": {},
   "outputs": [],
   "source": [
    "cat_column = data.df['occupation']"
   ]
  },
  {
   "cell_type": "code",
   "execution_count": 24,
   "metadata": {},
   "outputs": [
    {
     "name": "stdout",
     "output_type": "stream",
     "text": [
      "Number of rows: 30718\n",
      "Number of categories: 14\n",
      "Most frequent category: 4140 rows\n",
      "Median number of occurences: 1799.5\n",
      "Number of categories with occurences < (mean n° occurences) / 5: 2\n"
     ]
    },
    {
     "data": {
      "image/png": "[encoded data removed]",
      "text/plain": [
       "<Figure size 432x288 with 1 Axes>"
      ]
     },
     "metadata": {
      "needs_background": "light"
     },
     "output_type": "display_data"
    }
   ],
   "source": [
    "overview_category(cat_column)"
   ]
  },
  {
   "cell_type": "code",
   "execution_count": 25,
   "metadata": {
    "scrolled": true
   },
   "outputs": [
    {
     "data": {
      "text/plain": [
       "  prof-specialty        4140\n",
       "  craft-repair          4099\n",
       "  exec-managerial       4066\n",
       "  adm-clerical          3770\n",
       "  sales                 3650\n",
       "  other-service         3295\n",
       "  machine-op-inspct     2002\n",
       "  transport-moving      1597\n",
       "  handlers-cleaners     1370\n",
       "  farming-fishing        994\n",
       "  tech-support           928\n",
       "  protective-serv        649\n",
       "  priv-house-serv        149\n",
       "  armed-forces             9\n",
       "Name: occupation, dtype: int64"
      ]
     },
     "execution_count": 25,
     "metadata": {},
     "output_type": "execute_result"
    }
   ],
   "source": [
    "cat_column.value_counts()"
   ]
  },
  {
   "cell_type": "markdown",
   "metadata": {},
   "source": [
    "## Random data"
   ]
  },
  {
   "cell_type": "code",
   "execution_count": 5,
   "metadata": {},
   "outputs": [],
   "source": [
    "data = datasets.RandomDataset()"
   ]
  },
  {
   "cell_type": "code",
   "execution_count": 6,
   "metadata": {},
   "outputs": [
    {
     "data": {
      "text/plain": [
       "<datasets.RandomDataset at 0x7f8ff7e2e518>"
      ]
     },
     "execution_count": 6,
     "metadata": {},
     "output_type": "execute_result"
    }
   ],
   "source": [
    "data.get_df()"
   ]
  },
  {
   "cell_type": "code",
   "execution_count": 7,
   "metadata": {},
   "outputs": [
    {
     "data": {
      "text/html": [
       "<div>\n",
       "<style scoped>\n",
       "    .dataframe tbody tr th:only-of-type {\n",
       "        vertical-align: middle;\n",
       "    }\n",
       "\n",
       "    .dataframe tbody tr th {\n",
       "        vertical-align: top;\n",
       "    }\n",
       "\n",
       "    .dataframe thead th {\n",
       "        text-align: right;\n",
       "    }\n",
       "</style>\n",
       "<table border=\"1\" class=\"dataframe\">\n",
       "  <thead>\n",
       "    <tr style=\"text-align: right;\">\n",
       "      <th></th>\n",
       "      <th>num0</th>\n",
       "      <th>num1</th>\n",
       "      <th>num2</th>\n",
       "      <th>num3</th>\n",
       "      <th>num4</th>\n",
       "      <th>num5</th>\n",
       "      <th>num6</th>\n",
       "      <th>num7</th>\n",
       "      <th>num8</th>\n",
       "      <th>num9</th>\n",
       "      <th>...</th>\n",
       "      <th>num14</th>\n",
       "      <th>num15</th>\n",
       "      <th>num16</th>\n",
       "      <th>num17</th>\n",
       "      <th>num18</th>\n",
       "      <th>num19</th>\n",
       "      <th>cat1</th>\n",
       "      <th>cat2</th>\n",
       "      <th>cat3</th>\n",
       "      <th>target</th>\n",
       "    </tr>\n",
       "  </thead>\n",
       "  <tbody>\n",
       "    <tr>\n",
       "      <th>0</th>\n",
       "      <td>0.328547</td>\n",
       "      <td>-1.384724</td>\n",
       "      <td>-0.284819</td>\n",
       "      <td>-0.030196</td>\n",
       "      <td>-0.695646</td>\n",
       "      <td>-1.012684</td>\n",
       "      <td>-1.297740</td>\n",
       "      <td>-0.046200</td>\n",
       "      <td>0.744777</td>\n",
       "      <td>-1.343827</td>\n",
       "      <td>...</td>\n",
       "      <td>-0.198004</td>\n",
       "      <td>-0.664024</td>\n",
       "      <td>-0.230734</td>\n",
       "      <td>-0.355199</td>\n",
       "      <td>-0.665488</td>\n",
       "      <td>2.073555</td>\n",
       "      <td>1</td>\n",
       "      <td>4</td>\n",
       "      <td>2</td>\n",
       "      <td>0</td>\n",
       "    </tr>\n",
       "    <tr>\n",
       "      <th>1</th>\n",
       "      <td>0.801869</td>\n",
       "      <td>2.390928</td>\n",
       "      <td>-1.232367</td>\n",
       "      <td>1.144513</td>\n",
       "      <td>-0.435142</td>\n",
       "      <td>0.742784</td>\n",
       "      <td>-1.287784</td>\n",
       "      <td>-0.639615</td>\n",
       "      <td>-1.332604</td>\n",
       "      <td>-0.208368</td>\n",
       "      <td>...</td>\n",
       "      <td>-0.904066</td>\n",
       "      <td>-0.245746</td>\n",
       "      <td>1.021368</td>\n",
       "      <td>0.074146</td>\n",
       "      <td>0.620685</td>\n",
       "      <td>1.605930</td>\n",
       "      <td>1</td>\n",
       "      <td>1</td>\n",
       "      <td>1</td>\n",
       "      <td>0</td>\n",
       "    </tr>\n",
       "    <tr>\n",
       "      <th>2</th>\n",
       "      <td>-0.674526</td>\n",
       "      <td>-0.261000</td>\n",
       "      <td>-0.464924</td>\n",
       "      <td>-1.495308</td>\n",
       "      <td>-0.348549</td>\n",
       "      <td>0.064322</td>\n",
       "      <td>0.541989</td>\n",
       "      <td>-2.489174</td>\n",
       "      <td>1.023665</td>\n",
       "      <td>-0.816403</td>\n",
       "      <td>...</td>\n",
       "      <td>-0.020727</td>\n",
       "      <td>0.034012</td>\n",
       "      <td>-1.341455</td>\n",
       "      <td>-0.368306</td>\n",
       "      <td>-0.568126</td>\n",
       "      <td>0.096521</td>\n",
       "      <td>8</td>\n",
       "      <td>2</td>\n",
       "      <td>2</td>\n",
       "      <td>1</td>\n",
       "    </tr>\n",
       "    <tr>\n",
       "      <th>3</th>\n",
       "      <td>-1.188735</td>\n",
       "      <td>1.100929</td>\n",
       "      <td>0.818446</td>\n",
       "      <td>-0.573651</td>\n",
       "      <td>0.734325</td>\n",
       "      <td>1.706128</td>\n",
       "      <td>-0.929116</td>\n",
       "      <td>-0.520684</td>\n",
       "      <td>-0.677726</td>\n",
       "      <td>0.868604</td>\n",
       "      <td>...</td>\n",
       "      <td>1.303629</td>\n",
       "      <td>1.340363</td>\n",
       "      <td>-1.203694</td>\n",
       "      <td>-0.568942</td>\n",
       "      <td>-0.199512</td>\n",
       "      <td>-0.460908</td>\n",
       "      <td>1</td>\n",
       "      <td>3</td>\n",
       "      <td>3</td>\n",
       "      <td>1</td>\n",
       "    </tr>\n",
       "    <tr>\n",
       "      <th>4</th>\n",
       "      <td>-1.227908</td>\n",
       "      <td>-0.617620</td>\n",
       "      <td>-0.104353</td>\n",
       "      <td>0.986159</td>\n",
       "      <td>0.723141</td>\n",
       "      <td>1.249342</td>\n",
       "      <td>-1.105068</td>\n",
       "      <td>-0.516500</td>\n",
       "      <td>-2.200517</td>\n",
       "      <td>0.851577</td>\n",
       "      <td>...</td>\n",
       "      <td>-0.721840</td>\n",
       "      <td>0.657838</td>\n",
       "      <td>0.139794</td>\n",
       "      <td>-0.212828</td>\n",
       "      <td>-0.202701</td>\n",
       "      <td>-1.022671</td>\n",
       "      <td>2</td>\n",
       "      <td>3</td>\n",
       "      <td>1</td>\n",
       "      <td>1</td>\n",
       "    </tr>\n",
       "  </tbody>\n",
       "</table>\n",
       "<p>5 rows × 24 columns</p>\n",
       "</div>"
      ],
      "text/plain": [
       "       num0      num1      num2      num3      num4      num5      num6  \\\n",
       "0  0.328547 -1.384724 -0.284819 -0.030196 -0.695646 -1.012684 -1.297740   \n",
       "1  0.801869  2.390928 -1.232367  1.144513 -0.435142  0.742784 -1.287784   \n",
       "2 -0.674526 -0.261000 -0.464924 -1.495308 -0.348549  0.064322  0.541989   \n",
       "3 -1.188735  1.100929  0.818446 -0.573651  0.734325  1.706128 -0.929116   \n",
       "4 -1.227908 -0.617620 -0.104353  0.986159  0.723141  1.249342 -1.105068   \n",
       "\n",
       "       num7      num8      num9   ...       num14     num15     num16  \\\n",
       "0 -0.046200  0.744777 -1.343827   ...   -0.198004 -0.664024 -0.230734   \n",
       "1 -0.639615 -1.332604 -0.208368   ...   -0.904066 -0.245746  1.021368   \n",
       "2 -2.489174  1.023665 -0.816403   ...   -0.020727  0.034012 -1.341455   \n",
       "3 -0.520684 -0.677726  0.868604   ...    1.303629  1.340363 -1.203694   \n",
       "4 -0.516500 -2.200517  0.851577   ...   -0.721840  0.657838  0.139794   \n",
       "\n",
       "      num17     num18     num19  cat1  cat2  cat3  target  \n",
       "0 -0.355199 -0.665488  2.073555     1     4     2       0  \n",
       "1  0.074146  0.620685  1.605930     1     1     1       0  \n",
       "2 -0.368306 -0.568126  0.096521     8     2     2       1  \n",
       "3 -0.568942 -0.199512 -0.460908     1     3     3       1  \n",
       "4 -0.212828 -0.202701 -1.022671     2     3     1       1  \n",
       "\n",
       "[5 rows x 24 columns]"
      ]
     },
     "execution_count": 7,
     "metadata": {},
     "output_type": "execute_result"
    }
   ],
   "source": [
    "data.df.head()"
   ]
  },
  {
   "cell_type": "code",
   "execution_count": null,
   "metadata": {},
   "outputs": [],
   "source": []
  },
  {
   "cell_type": "code",
   "execution_count": 8,
   "metadata": {},
   "outputs": [],
   "source": [
    "data = datasets.RandomDataset()"
   ]
  },
  {
   "cell_type": "code",
   "execution_count": 9,
   "metadata": {},
   "outputs": [
    {
     "data": {
      "text/plain": [
       "<datasets.RandomDataset at 0x7f901c65fa20>"
      ]
     },
     "execution_count": 9,
     "metadata": {},
     "output_type": "execute_result"
    }
   ],
   "source": [
    "data.get_df()"
   ]
  },
  {
   "cell_type": "code",
   "execution_count": 10,
   "metadata": {},
   "outputs": [
    {
     "data": {
      "text/html": [
       "<div>\n",
       "<style scoped>\n",
       "    .dataframe tbody tr th:only-of-type {\n",
       "        vertical-align: middle;\n",
       "    }\n",
       "\n",
       "    .dataframe tbody tr th {\n",
       "        vertical-align: top;\n",
       "    }\n",
       "\n",
       "    .dataframe thead th {\n",
       "        text-align: right;\n",
       "    }\n",
       "</style>\n",
       "<table border=\"1\" class=\"dataframe\">\n",
       "  <thead>\n",
       "    <tr style=\"text-align: right;\">\n",
       "      <th></th>\n",
       "      <th>num0</th>\n",
       "      <th>num1</th>\n",
       "      <th>num2</th>\n",
       "      <th>num3</th>\n",
       "      <th>num4</th>\n",
       "      <th>num5</th>\n",
       "      <th>num6</th>\n",
       "      <th>num7</th>\n",
       "      <th>num8</th>\n",
       "      <th>num9</th>\n",
       "      <th>...</th>\n",
       "      <th>num14</th>\n",
       "      <th>num15</th>\n",
       "      <th>num16</th>\n",
       "      <th>num17</th>\n",
       "      <th>num18</th>\n",
       "      <th>num19</th>\n",
       "      <th>cat1</th>\n",
       "      <th>cat2</th>\n",
       "      <th>cat3</th>\n",
       "      <th>target</th>\n",
       "    </tr>\n",
       "  </thead>\n",
       "  <tbody>\n",
       "    <tr>\n",
       "      <th>0</th>\n",
       "      <td>0.328547</td>\n",
       "      <td>-1.384724</td>\n",
       "      <td>-0.284819</td>\n",
       "      <td>-0.030196</td>\n",
       "      <td>-0.695646</td>\n",
       "      <td>-1.012684</td>\n",
       "      <td>-1.297740</td>\n",
       "      <td>-0.046200</td>\n",
       "      <td>0.744777</td>\n",
       "      <td>-1.343827</td>\n",
       "      <td>...</td>\n",
       "      <td>-0.198004</td>\n",
       "      <td>-0.664024</td>\n",
       "      <td>-0.230734</td>\n",
       "      <td>-0.355199</td>\n",
       "      <td>-0.665488</td>\n",
       "      <td>2.073555</td>\n",
       "      <td>1</td>\n",
       "      <td>1</td>\n",
       "      <td>3</td>\n",
       "      <td>0</td>\n",
       "    </tr>\n",
       "    <tr>\n",
       "      <th>1</th>\n",
       "      <td>0.801869</td>\n",
       "      <td>2.390928</td>\n",
       "      <td>-1.232367</td>\n",
       "      <td>1.144513</td>\n",
       "      <td>-0.435142</td>\n",
       "      <td>0.742784</td>\n",
       "      <td>-1.287784</td>\n",
       "      <td>-0.639615</td>\n",
       "      <td>-1.332604</td>\n",
       "      <td>-0.208368</td>\n",
       "      <td>...</td>\n",
       "      <td>-0.904066</td>\n",
       "      <td>-0.245746</td>\n",
       "      <td>1.021368</td>\n",
       "      <td>0.074146</td>\n",
       "      <td>0.620685</td>\n",
       "      <td>1.605930</td>\n",
       "      <td>2</td>\n",
       "      <td>5</td>\n",
       "      <td>1</td>\n",
       "      <td>0</td>\n",
       "    </tr>\n",
       "    <tr>\n",
       "      <th>2</th>\n",
       "      <td>-0.674526</td>\n",
       "      <td>-0.261000</td>\n",
       "      <td>-0.464924</td>\n",
       "      <td>-1.495308</td>\n",
       "      <td>-0.348549</td>\n",
       "      <td>0.064322</td>\n",
       "      <td>0.541989</td>\n",
       "      <td>-2.489174</td>\n",
       "      <td>1.023665</td>\n",
       "      <td>-0.816403</td>\n",
       "      <td>...</td>\n",
       "      <td>-0.020727</td>\n",
       "      <td>0.034012</td>\n",
       "      <td>-1.341455</td>\n",
       "      <td>-0.368306</td>\n",
       "      <td>-0.568126</td>\n",
       "      <td>0.096521</td>\n",
       "      <td>1</td>\n",
       "      <td>1</td>\n",
       "      <td>1</td>\n",
       "      <td>1</td>\n",
       "    </tr>\n",
       "    <tr>\n",
       "      <th>3</th>\n",
       "      <td>-1.188735</td>\n",
       "      <td>1.100929</td>\n",
       "      <td>0.818446</td>\n",
       "      <td>-0.573651</td>\n",
       "      <td>0.734325</td>\n",
       "      <td>1.706128</td>\n",
       "      <td>-0.929116</td>\n",
       "      <td>-0.520684</td>\n",
       "      <td>-0.677726</td>\n",
       "      <td>0.868604</td>\n",
       "      <td>...</td>\n",
       "      <td>1.303629</td>\n",
       "      <td>1.340363</td>\n",
       "      <td>-1.203694</td>\n",
       "      <td>-0.568942</td>\n",
       "      <td>-0.199512</td>\n",
       "      <td>-0.460908</td>\n",
       "      <td>3</td>\n",
       "      <td>4</td>\n",
       "      <td>2</td>\n",
       "      <td>1</td>\n",
       "    </tr>\n",
       "    <tr>\n",
       "      <th>4</th>\n",
       "      <td>-1.227908</td>\n",
       "      <td>-0.617620</td>\n",
       "      <td>-0.104353</td>\n",
       "      <td>0.986159</td>\n",
       "      <td>0.723141</td>\n",
       "      <td>1.249342</td>\n",
       "      <td>-1.105068</td>\n",
       "      <td>-0.516500</td>\n",
       "      <td>-2.200517</td>\n",
       "      <td>0.851577</td>\n",
       "      <td>...</td>\n",
       "      <td>-0.721840</td>\n",
       "      <td>0.657838</td>\n",
       "      <td>0.139794</td>\n",
       "      <td>-0.212828</td>\n",
       "      <td>-0.202701</td>\n",
       "      <td>-1.022671</td>\n",
       "      <td>2</td>\n",
       "      <td>2</td>\n",
       "      <td>3</td>\n",
       "      <td>1</td>\n",
       "    </tr>\n",
       "  </tbody>\n",
       "</table>\n",
       "<p>5 rows × 24 columns</p>\n",
       "</div>"
      ],
      "text/plain": [
       "       num0      num1      num2      num3      num4      num5      num6  \\\n",
       "0  0.328547 -1.384724 -0.284819 -0.030196 -0.695646 -1.012684 -1.297740   \n",
       "1  0.801869  2.390928 -1.232367  1.144513 -0.435142  0.742784 -1.287784   \n",
       "2 -0.674526 -0.261000 -0.464924 -1.495308 -0.348549  0.064322  0.541989   \n",
       "3 -1.188735  1.100929  0.818446 -0.573651  0.734325  1.706128 -0.929116   \n",
       "4 -1.227908 -0.617620 -0.104353  0.986159  0.723141  1.249342 -1.105068   \n",
       "\n",
       "       num7      num8      num9   ...       num14     num15     num16  \\\n",
       "0 -0.046200  0.744777 -1.343827   ...   -0.198004 -0.664024 -0.230734   \n",
       "1 -0.639615 -1.332604 -0.208368   ...   -0.904066 -0.245746  1.021368   \n",
       "2 -2.489174  1.023665 -0.816403   ...   -0.020727  0.034012 -1.341455   \n",
       "3 -0.520684 -0.677726  0.868604   ...    1.303629  1.340363 -1.203694   \n",
       "4 -0.516500 -2.200517  0.851577   ...   -0.721840  0.657838  0.139794   \n",
       "\n",
       "      num17     num18     num19  cat1  cat2  cat3  target  \n",
       "0 -0.355199 -0.665488  2.073555     1     1     3       0  \n",
       "1  0.074146  0.620685  1.605930     2     5     1       0  \n",
       "2 -0.368306 -0.568126  0.096521     1     1     1       1  \n",
       "3 -0.568942 -0.199512 -0.460908     3     4     2       1  \n",
       "4 -0.212828 -0.202701 -1.022671     2     2     3       1  \n",
       "\n",
       "[5 rows x 24 columns]"
      ]
     },
     "execution_count": 10,
     "metadata": {},
     "output_type": "execute_result"
    }
   ],
   "source": [
    "data.df.head()"
   ]
  },
  {
   "cell_type": "code",
   "execution_count": null,
   "metadata": {},
   "outputs": [],
   "source": []
  },
  {
   "cell_type": "code",
   "execution_count": null,
   "metadata": {},
   "outputs": [],
   "source": []
  },
  {
   "cell_type": "code",
   "execution_count": 9,
   "metadata": {},
   "outputs": [
    {
     "data": {
      "text/plain": [
       "{'cat1': 'Special',\n",
       " 'cat2': 'OneHotEncoderDense',\n",
       " 'cat3': 'OneHotEncoderDense',\n",
       " 'target': 'y',\n",
       " 'num0': 'Numerical',\n",
       " 'num1': 'Numerical',\n",
       " 'num2': 'Numerical',\n",
       " 'num3': 'Numerical',\n",
       " 'num4': 'Numerical',\n",
       " 'num5': 'Numerical',\n",
       " 'num6': 'Numerical',\n",
       " 'num7': 'Numerical',\n",
       " 'num8': 'Numerical',\n",
       " 'num9': 'Numerical',\n",
       " 'num10': 'Numerical',\n",
       " 'num11': 'Numerical',\n",
       " 'num12': 'Numerical',\n",
       " 'num13': 'Numerical',\n",
       " 'num14': 'Numerical',\n",
       " 'num15': 'Numerical',\n",
       " 'num16': 'Numerical',\n",
       " 'num17': 'Numerical',\n",
       " 'num18': 'Numerical',\n",
       " 'num19': 'Numerical'}"
      ]
     },
     "execution_count": 9,
     "metadata": {},
     "output_type": "execute_result"
    }
   ],
   "source": [
    "data.col_action"
   ]
  },
  {
   "cell_type": "code",
   "execution_count": 10,
   "metadata": {},
   "outputs": [],
   "source": [
    "cat_column = data.df['cat1']"
   ]
  },
  {
   "cell_type": "code",
   "execution_count": 11,
   "metadata": {},
   "outputs": [
    {
     "name": "stdout",
     "output_type": "stream",
     "text": [
      "Number of rows: 100000\n",
      "Number of categories: 100\n",
      "Most frequent category: 41839 rows\n",
      "Median number of occurences: 33.0\n",
      "Number of categories with occurences < (mean n° occurences) / 5: 80\n"
     ]
    },
    {
     "data": {
      "image/png": "[encoded data removed]",
      "text/plain": [
       "<Figure size 432x288 with 1 Axes>"
      ]
     },
     "metadata": {
      "needs_background": "light"
     },
     "output_type": "display_data"
    }
   ],
   "source": [
    "overview_category(cat_column)"
   ]
  },
  {
   "cell_type": "code",
   "execution_count": 12,
   "metadata": {
    "scrolled": true
   },
   "outputs": [
    {
     "data": {
      "text/plain": [
       "1      41839\n",
       "2      24746\n",
       "4       8855\n",
       "3       6992\n",
       "7       2882\n",
       "5       1693\n",
       "6       1649\n",
       "8       1145\n",
       "9       1080\n",
       "11      1009\n",
       "10      1000\n",
       "12       794\n",
       "13       746\n",
       "16       503\n",
       "15       486\n",
       "17       459\n",
       "14       366\n",
       "22       269\n",
       "21       269\n",
       "19       250\n",
       "18       164\n",
       "24       159\n",
       "23       123\n",
       "20       112\n",
       "35       107\n",
       "38        94\n",
       "26        87\n",
       "27        86\n",
       "33        84\n",
       "25        82\n",
       "       ...  \n",
       "85        19\n",
       "49        18\n",
       "68        17\n",
       "56        16\n",
       "74        16\n",
       "63        15\n",
       "66        15\n",
       "87        15\n",
       "80        15\n",
       "100       14\n",
       "92        14\n",
       "61        13\n",
       "60        13\n",
       "86        13\n",
       "51        12\n",
       "97        11\n",
       "96        10\n",
       "98        10\n",
       "89         9\n",
       "73         8\n",
       "91         8\n",
       "83         7\n",
       "90         5\n",
       "77         5\n",
       "82         4\n",
       "78         4\n",
       "93         3\n",
       "95         3\n",
       "99         3\n",
       "94         2\n",
       "Name: cat1, Length: 100, dtype: int64"
      ]
     },
     "execution_count": 12,
     "metadata": {},
     "output_type": "execute_result"
    }
   ],
   "source": [
    "cat_column.value_counts()"
   ]
  },
  {
   "cell_type": "code",
   "execution_count": null,
   "metadata": {},
   "outputs": [],
   "source": []
  }
 ],
 "metadata": {
  "kernelspec": {
   "display_name": "Python 3",
   "language": "python",
   "name": "python3"
  },
  "language_info": {
   "codemirror_mode": {
    "name": "ipython",
    "version": 3
   },
   "file_extension": ".py",
   "mimetype": "text/x-python",
   "name": "python",
   "nbconvert_exporter": "python",
   "pygments_lexer": "ipython3",
   "version": "3.7.1"
  }
 },
 "nbformat": 4,
 "nbformat_minor": 2
}
