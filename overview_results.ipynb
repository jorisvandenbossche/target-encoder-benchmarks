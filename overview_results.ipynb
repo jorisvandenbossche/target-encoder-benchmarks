{
 "cells": [
  {
   "cell_type": "markdown",
   "metadata": {},
   "source": [
    "# Overview benchmark results"
   ]
  },
  {
   "cell_type": "code",
   "execution_count": 1,
   "metadata": {},
   "outputs": [],
   "source": [
    "%matplotlib inline\n",
    "\n",
    "import os\n",
    "\n",
    "import pandas as pd\n",
    "import matplotlib.pyplot as plt\n",
    "\n",
    "import seaborn\n",
    "\n",
    "# local import\n",
    "from utils import get_results_df"
   ]
  },
  {
   "cell_type": "code",
   "execution_count": 2,
   "metadata": {},
   "outputs": [],
   "source": [
    "results_path = os.path.join('.', 'data', 'results', 'target_encoder_benchmarks')"
   ]
  },
  {
   "cell_type": "code",
   "execution_count": 3,
   "metadata": {},
   "outputs": [],
   "source": [
    "df_all = get_results_df(results_path)"
   ]
  },
  {
   "cell_type": "code",
   "execution_count": 4,
   "metadata": {},
   "outputs": [
    {
     "data": {
      "text/html": [
       "<div>\n",
       "<style scoped>\n",
       "    .dataframe tbody tr th:only-of-type {\n",
       "        vertical-align: middle;\n",
       "    }\n",
       "\n",
       "    .dataframe tbody tr th {\n",
       "        vertical-align: top;\n",
       "    }\n",
       "\n",
       "    .dataframe thead th {\n",
       "        text-align: right;\n",
       "    }\n",
       "</style>\n",
       "<table border=\"1\" class=\"dataframe\">\n",
       "  <thead>\n",
       "    <tr style=\"text-align: right;\">\n",
       "      <th></th>\n",
       "      <th>encoding_time</th>\n",
       "      <th>fold</th>\n",
       "      <th>n_train_features</th>\n",
       "      <th>n_train_samples</th>\n",
       "      <th>score</th>\n",
       "      <th>training_time</th>\n",
       "      <th>dataset</th>\n",
       "      <th>encoder</th>\n",
       "      <th>clf</th>\n",
       "      <th>n_splits</th>\n",
       "      <th>results_file</th>\n",
       "      <th>Dimension reduction method</th>\n",
       "      <th>score_type</th>\n",
       "    </tr>\n",
       "  </thead>\n",
       "  <tbody>\n",
       "    <tr>\n",
       "      <th>0</th>\n",
       "      <td>0.252165</td>\n",
       "      <td>0.0</td>\n",
       "      <td>103.0</td>\n",
       "      <td>20478.0</td>\n",
       "      <td>0.766313</td>\n",
       "      <td>54.827893</td>\n",
       "      <td>adult</td>\n",
       "      <td>OneHotEncoderDense</td>\n",
       "      <td>L2RegularizedLinearModel</td>\n",
       "      <td>3</td>\n",
       "      <td>joris-XPS-13-9350_adult_L2RegularizedLinearMod...</td>\n",
       "      <td>OneHotEncoderDense (d=None) None</td>\n",
       "      <td>average precision score</td>\n",
       "    </tr>\n",
       "    <tr>\n",
       "      <th>1</th>\n",
       "      <td>0.272372</td>\n",
       "      <td>1.0</td>\n",
       "      <td>104.0</td>\n",
       "      <td>20478.0</td>\n",
       "      <td>0.767302</td>\n",
       "      <td>56.447505</td>\n",
       "      <td>adult</td>\n",
       "      <td>OneHotEncoderDense</td>\n",
       "      <td>L2RegularizedLinearModel</td>\n",
       "      <td>3</td>\n",
       "      <td>joris-XPS-13-9350_adult_L2RegularizedLinearMod...</td>\n",
       "      <td>OneHotEncoderDense (d=None) None</td>\n",
       "      <td>average precision score</td>\n",
       "    </tr>\n",
       "    <tr>\n",
       "      <th>2</th>\n",
       "      <td>0.311637</td>\n",
       "      <td>2.0</td>\n",
       "      <td>104.0</td>\n",
       "      <td>20478.0</td>\n",
       "      <td>0.769459</td>\n",
       "      <td>58.406690</td>\n",
       "      <td>adult</td>\n",
       "      <td>OneHotEncoderDense</td>\n",
       "      <td>L2RegularizedLinearModel</td>\n",
       "      <td>3</td>\n",
       "      <td>joris-XPS-13-9350_adult_L2RegularizedLinearMod...</td>\n",
       "      <td>OneHotEncoderDense (d=None) None</td>\n",
       "      <td>average precision score</td>\n",
       "    </tr>\n",
       "    <tr>\n",
       "      <th>3</th>\n",
       "      <td>0.442805</td>\n",
       "      <td>0.0</td>\n",
       "      <td>1028.0</td>\n",
       "      <td>6152.0</td>\n",
       "      <td>0.837949</td>\n",
       "      <td>11.832876</td>\n",
       "      <td>employee_salaries</td>\n",
       "      <td>OneHotEncoderDense</td>\n",
       "      <td>L2RegularizedLinearModel</td>\n",
       "      <td>3</td>\n",
       "      <td>joris-XPS-13-9350_employee_salaries_L2Regulari...</td>\n",
       "      <td>OneHotEncoderDense (d=None) None</td>\n",
       "      <td>r2 score</td>\n",
       "    </tr>\n",
       "    <tr>\n",
       "      <th>4</th>\n",
       "      <td>0.498708</td>\n",
       "      <td>1.0</td>\n",
       "      <td>1042.0</td>\n",
       "      <td>6152.0</td>\n",
       "      <td>0.842894</td>\n",
       "      <td>12.190361</td>\n",
       "      <td>employee_salaries</td>\n",
       "      <td>OneHotEncoderDense</td>\n",
       "      <td>L2RegularizedLinearModel</td>\n",
       "      <td>3</td>\n",
       "      <td>joris-XPS-13-9350_employee_salaries_L2Regulari...</td>\n",
       "      <td>OneHotEncoderDense (d=None) None</td>\n",
       "      <td>r2 score</td>\n",
       "    </tr>\n",
       "  </tbody>\n",
       "</table>\n",
       "</div>"
      ],
      "text/plain": [
       "   encoding_time  fold  n_train_features  n_train_samples     score  \\\n",
       "0       0.252165   0.0             103.0          20478.0  0.766313   \n",
       "1       0.272372   1.0             104.0          20478.0  0.767302   \n",
       "2       0.311637   2.0             104.0          20478.0  0.769459   \n",
       "3       0.442805   0.0            1028.0           6152.0  0.837949   \n",
       "4       0.498708   1.0            1042.0           6152.0  0.842894   \n",
       "\n",
       "   training_time            dataset             encoder  \\\n",
       "0      54.827893              adult  OneHotEncoderDense   \n",
       "1      56.447505              adult  OneHotEncoderDense   \n",
       "2      58.406690              adult  OneHotEncoderDense   \n",
       "3      11.832876  employee_salaries  OneHotEncoderDense   \n",
       "4      12.190361  employee_salaries  OneHotEncoderDense   \n",
       "\n",
       "                        clf  n_splits  \\\n",
       "0  L2RegularizedLinearModel         3   \n",
       "1  L2RegularizedLinearModel         3   \n",
       "2  L2RegularizedLinearModel         3   \n",
       "3  L2RegularizedLinearModel         3   \n",
       "4  L2RegularizedLinearModel         3   \n",
       "\n",
       "                                        results_file  \\\n",
       "0  joris-XPS-13-9350_adult_L2RegularizedLinearMod...   \n",
       "1  joris-XPS-13-9350_adult_L2RegularizedLinearMod...   \n",
       "2  joris-XPS-13-9350_adult_L2RegularizedLinearMod...   \n",
       "3  joris-XPS-13-9350_employee_salaries_L2Regulari...   \n",
       "4  joris-XPS-13-9350_employee_salaries_L2Regulari...   \n",
       "\n",
       "         Dimension reduction method               score_type  \n",
       "0  OneHotEncoderDense (d=None) None  average precision score  \n",
       "1  OneHotEncoderDense (d=None) None  average precision score  \n",
       "2  OneHotEncoderDense (d=None) None  average precision score  \n",
       "3  OneHotEncoderDense (d=None) None                 r2 score  \n",
       "4  OneHotEncoderDense (d=None) None                 r2 score  "
      ]
     },
     "execution_count": 4,
     "metadata": {},
     "output_type": "execute_result"
    }
   ],
   "source": [
    "df_all.head()"
   ]
  },
  {
   "cell_type": "code",
   "execution_count": 5,
   "metadata": {},
   "outputs": [
    {
     "data": {
      "text/plain": [
       "dataset            encoder                          clf                     \n",
       "adult              OneHotEncoderDense               L2RegularizedLinearModel    3\n",
       "employee_salaries  OneHotEncoderDense               L2RegularizedLinearModel    3\n",
       "                                                    XGB                         3\n",
       "                   TargetEncoder                    L2RegularizedLinearModel    3\n",
       "                                                    XGB                         3\n",
       "                   TargetEncoder-category_encoders  L2RegularizedLinearModel    3\n",
       "                                                    XGB                         3\n",
       "                   TargetEncoder-hcc-bayes          L2RegularizedLinearModel    3\n",
       "medical_charge     OneHotEncoderDense               L2RegularizedLinearModel    3\n",
       "                   TargetEncoder                    L2RegularizedLinearModel    3\n",
       "                   TargetEncoder-category_encoders  L2RegularizedLinearModel    3\n",
       "                   TargetEncoder-hcc-bayes          L2RegularizedLinearModel    3\n",
       "                   TargetEncoder-hcc-loo            L2RegularizedLinearModel    3\n",
       "dtype: int64"
      ]
     },
     "execution_count": 5,
     "metadata": {},
     "output_type": "execute_result"
    }
   ],
   "source": [
    "df_all.groupby(['dataset', 'encoder', 'clf']).size()"
   ]
  },
  {
   "cell_type": "markdown",
   "metadata": {},
   "source": [
    "Quick plot with seaborn:"
   ]
  },
  {
   "cell_type": "code",
   "execution_count": 6,
   "metadata": {},
   "outputs": [
    {
     "data": {
      "text/plain": [
       "<seaborn.axisgrid.FacetGrid at 0x7f9986d880b8>"
      ]
     },
     "execution_count": 6,
     "metadata": {},
     "output_type": "execute_result"
    },
    {
     "data": {
      "image/png": "[encoded data removed]",
      "text/plain": [
       "<Figure size 720x720 with 4 Axes>"
      ]
     },
     "metadata": {
      "needs_background": "light"
     },
     "output_type": "display_data"
    }
   ],
   "source": [
    "seaborn.catplot(y='encoder', x='score', col='dataset', row='clf', kind='box', sharex='col',\n",
    "                data=df_all[df_all['dataset'] != 'adult'])"
   ]
  },
  {
   "cell_type": "markdown",
   "metadata": {},
   "source": [
    "TODO: customize plot (check Patricio's code)"
   ]
  },
  {
   "cell_type": "code",
   "execution_count": null,
   "metadata": {},
   "outputs": [],
   "source": []
  }
 ],
 "metadata": {
  "kernelspec": {
   "display_name": "Python 3 (dev)",
   "language": "python",
   "name": "dev"
  },
  "language_info": {
   "codemirror_mode": {
    "name": "ipython",
    "version": 3
   },
   "file_extension": ".py",
   "mimetype": "text/x-python",
   "name": "python",
   "nbconvert_exporter": "python",
   "pygments_lexer": "ipython3",
   "version": "3.5.5"
  }
 },
 "nbformat": 4,
 "nbformat_minor": 2
}
