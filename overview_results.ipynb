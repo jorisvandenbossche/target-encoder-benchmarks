{
 "cells": [
  {
   "cell_type": "markdown",
   "metadata": {},
   "source": [
    "# Overview benchmark results"
   ]
  },
  {
   "cell_type": "code",
   "execution_count": 1,
   "metadata": {},
   "outputs": [],
   "source": [
    "%matplotlib inline\n",
    "\n",
    "import os\n",
    "\n",
    "import pandas as pd\n",
    "import matplotlib.pyplot as plt\n",
    "\n",
    "import seaborn\n",
    "\n",
    "# local import\n",
    "from utils import get_results_df"
   ]
  },
  {
   "cell_type": "code",
   "execution_count": 2,
   "metadata": {},
   "outputs": [],
   "source": [
    "results_path = os.path.join('.', 'data', 'results', 'target_encoder_benchmarks')"
   ]
  },
  {
   "cell_type": "code",
   "execution_count": 3,
   "metadata": {},
   "outputs": [],
   "source": [
    "df_all = get_results_df(results_path)"
   ]
  },
  {
   "cell_type": "code",
   "execution_count": 4,
   "metadata": {},
   "outputs": [
    {
     "data": {
      "text/html": [
       "<div>\n",
       "<style scoped>\n",
       "    .dataframe tbody tr th:only-of-type {\n",
       "        vertical-align: middle;\n",
       "    }\n",
       "\n",
       "    .dataframe tbody tr th {\n",
       "        vertical-align: top;\n",
       "    }\n",
       "\n",
       "    .dataframe thead th {\n",
       "        text-align: right;\n",
       "    }\n",
       "</style>\n",
       "<table border=\"1\" class=\"dataframe\">\n",
       "  <thead>\n",
       "    <tr style=\"text-align: right;\">\n",
       "      <th></th>\n",
       "      <th>encoding_time</th>\n",
       "      <th>fold</th>\n",
       "      <th>n_train_features</th>\n",
       "      <th>n_train_samples</th>\n",
       "      <th>score</th>\n",
       "      <th>training_time</th>\n",
       "      <th>dataset</th>\n",
       "      <th>encoder</th>\n",
       "      <th>clf</th>\n",
       "      <th>n_splits</th>\n",
       "      <th>results_file</th>\n",
       "      <th>Dimension reduction method</th>\n",
       "      <th>score_type</th>\n",
       "    </tr>\n",
       "  </thead>\n",
       "  <tbody>\n",
       "    <tr>\n",
       "      <th>0</th>\n",
       "      <td>0.216879</td>\n",
       "      <td>0.0</td>\n",
       "      <td>103.0</td>\n",
       "      <td>20478.0</td>\n",
       "      <td>0.766313</td>\n",
       "      <td>36.973520</td>\n",
       "      <td>adult</td>\n",
       "      <td>OneHotEncoderDense</td>\n",
       "      <td>L2RegularizedLinearModel</td>\n",
       "      <td>20</td>\n",
       "      <td>drago2_adult_L2RegularizedLinearModel_OneHotEn...</td>\n",
       "      <td>OneHotEncoderDense (d=None) None</td>\n",
       "      <td>average precision score</td>\n",
       "    </tr>\n",
       "    <tr>\n",
       "      <th>1</th>\n",
       "      <td>0.220013</td>\n",
       "      <td>1.0</td>\n",
       "      <td>104.0</td>\n",
       "      <td>20478.0</td>\n",
       "      <td>0.767302</td>\n",
       "      <td>41.338117</td>\n",
       "      <td>adult</td>\n",
       "      <td>OneHotEncoderDense</td>\n",
       "      <td>L2RegularizedLinearModel</td>\n",
       "      <td>20</td>\n",
       "      <td>drago2_adult_L2RegularizedLinearModel_OneHotEn...</td>\n",
       "      <td>OneHotEncoderDense (d=None) None</td>\n",
       "      <td>average precision score</td>\n",
       "    </tr>\n",
       "    <tr>\n",
       "      <th>2</th>\n",
       "      <td>0.209105</td>\n",
       "      <td>2.0</td>\n",
       "      <td>104.0</td>\n",
       "      <td>20478.0</td>\n",
       "      <td>0.769459</td>\n",
       "      <td>40.014475</td>\n",
       "      <td>adult</td>\n",
       "      <td>OneHotEncoderDense</td>\n",
       "      <td>L2RegularizedLinearModel</td>\n",
       "      <td>20</td>\n",
       "      <td>drago2_adult_L2RegularizedLinearModel_OneHotEn...</td>\n",
       "      <td>OneHotEncoderDense (d=None) None</td>\n",
       "      <td>average precision score</td>\n",
       "    </tr>\n",
       "    <tr>\n",
       "      <th>3</th>\n",
       "      <td>0.225721</td>\n",
       "      <td>3.0</td>\n",
       "      <td>104.0</td>\n",
       "      <td>20478.0</td>\n",
       "      <td>0.763181</td>\n",
       "      <td>38.507271</td>\n",
       "      <td>adult</td>\n",
       "      <td>OneHotEncoderDense</td>\n",
       "      <td>L2RegularizedLinearModel</td>\n",
       "      <td>20</td>\n",
       "      <td>drago2_adult_L2RegularizedLinearModel_OneHotEn...</td>\n",
       "      <td>OneHotEncoderDense (d=None) None</td>\n",
       "      <td>average precision score</td>\n",
       "    </tr>\n",
       "    <tr>\n",
       "      <th>4</th>\n",
       "      <td>0.276445</td>\n",
       "      <td>4.0</td>\n",
       "      <td>104.0</td>\n",
       "      <td>20478.0</td>\n",
       "      <td>0.776461</td>\n",
       "      <td>39.713086</td>\n",
       "      <td>adult</td>\n",
       "      <td>OneHotEncoderDense</td>\n",
       "      <td>L2RegularizedLinearModel</td>\n",
       "      <td>20</td>\n",
       "      <td>drago2_adult_L2RegularizedLinearModel_OneHotEn...</td>\n",
       "      <td>OneHotEncoderDense (d=None) None</td>\n",
       "      <td>average precision score</td>\n",
       "    </tr>\n",
       "  </tbody>\n",
       "</table>\n",
       "</div>"
      ],
      "text/plain": [
       "   encoding_time  fold  n_train_features  n_train_samples     score  \\\n",
       "0       0.216879   0.0             103.0          20478.0  0.766313   \n",
       "1       0.220013   1.0             104.0          20478.0  0.767302   \n",
       "2       0.209105   2.0             104.0          20478.0  0.769459   \n",
       "3       0.225721   3.0             104.0          20478.0  0.763181   \n",
       "4       0.276445   4.0             104.0          20478.0  0.776461   \n",
       "\n",
       "   training_time dataset             encoder                       clf  \\\n",
       "0      36.973520   adult  OneHotEncoderDense  L2RegularizedLinearModel   \n",
       "1      41.338117   adult  OneHotEncoderDense  L2RegularizedLinearModel   \n",
       "2      40.014475   adult  OneHotEncoderDense  L2RegularizedLinearModel   \n",
       "3      38.507271   adult  OneHotEncoderDense  L2RegularizedLinearModel   \n",
       "4      39.713086   adult  OneHotEncoderDense  L2RegularizedLinearModel   \n",
       "\n",
       "   n_splits                                       results_file  \\\n",
       "0        20  drago2_adult_L2RegularizedLinearModel_OneHotEn...   \n",
       "1        20  drago2_adult_L2RegularizedLinearModel_OneHotEn...   \n",
       "2        20  drago2_adult_L2RegularizedLinearModel_OneHotEn...   \n",
       "3        20  drago2_adult_L2RegularizedLinearModel_OneHotEn...   \n",
       "4        20  drago2_adult_L2RegularizedLinearModel_OneHotEn...   \n",
       "\n",
       "         Dimension reduction method               score_type  \n",
       "0  OneHotEncoderDense (d=None) None  average precision score  \n",
       "1  OneHotEncoderDense (d=None) None  average precision score  \n",
       "2  OneHotEncoderDense (d=None) None  average precision score  \n",
       "3  OneHotEncoderDense (d=None) None  average precision score  \n",
       "4  OneHotEncoderDense (d=None) None  average precision score  "
      ]
     },
     "execution_count": 4,
     "metadata": {},
     "output_type": "execute_result"
    }
   ],
   "source": [
    "df_all.head()"
   ]
  },
  {
   "cell_type": "code",
   "execution_count": 5,
   "metadata": {},
   "outputs": [
    {
     "data": {
      "text/plain": [
       "dataset            encoder                          clf                     \n",
       "adult              OneHotEncoderDense               L2RegularizedLinearModel    20\n",
       "                                                    XGB                         20\n",
       "                   TargetEncoder                    L2RegularizedLinearModel    20\n",
       "                                                    XGB                         20\n",
       "                   TargetEncoder-category_encoders  L2RegularizedLinearModel    20\n",
       "                                                    XGB                         20\n",
       "                   TargetEncoder-dirty_cat          L2RegularizedLinearModel    20\n",
       "                                                    XGB                         20\n",
       "                   TargetEncoder-hcc-bayes          L2RegularizedLinearModel    20\n",
       "                                                    XGB                         20\n",
       "                   TargetEncoder-hcc-loo            L2RegularizedLinearModel    20\n",
       "                                                    XGB                         20\n",
       "employee_salaries  OneHotEncoderDense               L2RegularizedLinearModel    20\n",
       "                                                    XGB                         20\n",
       "                   TargetEncoder-category_encoders  L2RegularizedLinearModel    20\n",
       "                                                    XGB                         20\n",
       "                   TargetEncoder-dirty_cat          L2RegularizedLinearModel    20\n",
       "                                                    XGB                         20\n",
       "                   TargetEncoder-hcc-bayes          L2RegularizedLinearModel    20\n",
       "                                                    XGB                         20\n",
       "                   TargetEncoder-hcc-loo            L2RegularizedLinearModel    20\n",
       "                                                    XGB                         20\n",
       "medical_charge     OneHotEncoderDense               L2RegularizedLinearModel    21\n",
       "                                                    XGB                         20\n",
       "                   TargetEncoder-category_encoders  L2RegularizedLinearModel    20\n",
       "                                                    XGB                         20\n",
       "                   TargetEncoder-dirty_cat          L2RegularizedLinearModel    20\n",
       "                                                    XGB                         20\n",
       "                   TargetEncoder-hcc-bayes          L2RegularizedLinearModel    20\n",
       "                                                    XGB                         20\n",
       "                   TargetEncoder-hcc-loo            L2RegularizedLinearModel    20\n",
       "                                                    XGB                         20\n",
       "dtype: int64"
      ]
     },
     "execution_count": 5,
     "metadata": {},
     "output_type": "execute_result"
    }
   ],
   "source": [
    "df_all.groupby(['dataset', 'encoder', 'clf']).size()"
   ]
  },
  {
   "cell_type": "markdown",
   "metadata": {},
   "source": [
    "Quick plot with seaborn:"
   ]
  },
  {
   "cell_type": "code",
   "execution_count": 6,
   "metadata": {},
   "outputs": [
    {
     "data": {
      "text/plain": [
       "<seaborn.axisgrid.FacetGrid at 0x7fc2e64b6e10>"
      ]
     },
     "execution_count": 6,
     "metadata": {},
     "output_type": "execute_result"
    },
    {
     "data": {
      "image/png": "[encoded data removed]",
      "text/plain": [
       "<matplotlib.figure.Figure at 0x7fc2e6972710>"
      ]
     },
     "metadata": {},
     "output_type": "display_data"
    }
   ],
   "source": [
    "seaborn.catplot(y='encoder', x='score', col='dataset', row='clf',\n",
    "                kind='box', sharex='col', data=df_all)"
   ]
  },
  {
   "cell_type": "markdown",
   "metadata": {},
   "source": [
    "TODO: customize plot (check Patricio's code)"
   ]
  },
  {
   "cell_type": "code",
   "execution_count": null,
   "metadata": {},
   "outputs": [],
   "source": []
  }
 ],
 "metadata": {
  "kernelspec": {
   "display_name": "Python 3",
   "language": "python",
   "name": "python3"
  },
  "language_info": {
   "codemirror_mode": {
    "name": "ipython",
    "version": 3
   },
   "file_extension": ".py",
   "mimetype": "text/x-python",
   "name": "python",
   "nbconvert_exporter": "python",
   "pygments_lexer": "ipython3",
   "version": "3.6.0"
  }
 },
 "nbformat": 4,
 "nbformat_minor": 2
}
